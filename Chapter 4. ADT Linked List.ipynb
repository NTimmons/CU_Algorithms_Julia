{
 "cells": [
  {
   "cell_type": "code",
   "execution_count": 1,
   "metadata": {},
   "outputs": [],
   "source": [
    "mutable struct ADTLinkedListNode\n",
    "    next::ADTLinkedListNode\n",
    "    val::Any\n",
    "    ADTLinkedListNode() = (n = new(); n.next = n; n.val = 0; n)\n",
    "    ADTLinkedListNode(data) = (n = new(); n.next = n; n.val = data; n)\n",
    "end"
   ]
  },
  {
   "cell_type": "code",
   "execution_count": 9,
   "metadata": {},
   "outputs": [
    {
     "data": {
      "text/plain": [
       "setTail (generic function with 1 method)"
      ]
     },
     "execution_count": 9,
     "metadata": {},
     "output_type": "execute_result"
    }
   ],
   "source": [
    "function head(lnklst::ADTLinkedListNode)\n",
    "   linklst \n",
    "end\n",
    "\n",
    "function prepend(lnklst, node)\n",
    "    node.next = lnklst\n",
    "    node\n",
    "end\n",
    "\n",
    "function append(lnklst, node)\n",
    "    lnklst.next = node\n",
    "    lnklst\n",
    "end\n",
    "\n",
    "function tail(lnklst::ADTLinkedListNode)\n",
    "    walking = true\n",
    "    node = lnklst.next\n",
    "    while (walking) \n",
    "        if(node.next == node)\n",
    "            return\n",
    "        end\n",
    "        \n",
    "        node = node.next\n",
    "    end\n",
    "end\n",
    "\n",
    "function print(lnklst::ADTLinkedListNode)\n",
    "    walking = true\n",
    "    node = lnklst\n",
    "    while (walking) \n",
    "        println(node.val) \n",
    "        if(node.next == node)\n",
    "            return\n",
    "        end\n",
    "        \n",
    "        node = node.next\n",
    "    end\n",
    "end\n",
    "\n",
    "function setTail(lnklst::ADTLinkedListNode, node)\n",
    "    lnklst.next = node\n",
    "end"
   ]
  },
  {
   "cell_type": "code",
   "execution_count": 3,
   "metadata": {},
   "outputs": [
    {
     "data": {
      "text/plain": [
       "ADTLinkedListNode(ADTLinkedListNode(#= circular reference @-1 =#), 10)"
      ]
     },
     "execution_count": 3,
     "metadata": {},
     "output_type": "execute_result"
    }
   ],
   "source": [
    "list = ADTLinkedListNode(10)\n",
    "newentry = ADTLinkedListNode(9)\n",
    "prepend(list, newentry)"
   ]
  },
  {
   "cell_type": "code",
   "execution_count": 8,
   "metadata": {},
   "outputs": [
    {
     "name": "stdout",
     "output_type": "stream",
     "text": [
      "9\n",
      "10\n"
     ]
    }
   ],
   "source": [
    "print(newentry)"
   ]
  }
 ],
 "metadata": {
  "kernelspec": {
   "display_name": "Julia 1.0.1",
   "language": "julia",
   "name": "julia-1.0"
  },
  "language_info": {
   "file_extension": ".jl",
   "mimetype": "application/julia",
   "name": "julia",
   "version": "1.0.1"
  }
 },
 "nbformat": 4,
 "nbformat_minor": 2
}
