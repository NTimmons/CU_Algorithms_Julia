{
 "cells": [
  {
   "cell_type": "code",
   "execution_count": 1,
   "metadata": {},
   "outputs": [],
   "source": [
    "mutable struct Dictionary\n",
    "    dictionaryArray::Array{Tuple{Any,Any}} \n",
    "    Dictionary() = new([])\n",
    "end"
   ]
  },
  {
   "cell_type": "code",
   "execution_count": 9,
   "metadata": {},
   "outputs": [
    {
     "data": {
      "text/plain": [
       "Delete (generic function with 1 method)"
      ]
     },
     "execution_count": 9,
     "metadata": {},
     "output_type": "execute_result"
    }
   ],
   "source": [
    "function Set(dict, key, value)\n",
    "    for i in 1:length(dict.dictionaryArray)\n",
    "       if(dict.dictionaryArray[i][1] == key)\n",
    "            dict.dictionaryArray[i] = (key, value)\n",
    "            return\n",
    "        end\n",
    "    end\n",
    "    \n",
    "    dict.dictionaryArray = [dict.dictionaryArray..., (key,value)]\n",
    "end\n",
    "\n",
    "function Get(dict, key)\n",
    "    for pair in dict.dictionaryArray\n",
    "       if(pair[1] == key)\n",
    "            return pair[2]\n",
    "        end\n",
    "    end\n",
    "end\n",
    "\n",
    "function Delete(dict, key)\n",
    "    keyloc = 0\n",
    "    for i in 1:length(dict.dictionaryArray)\n",
    "       if(dict.dictionaryArray[i][1] == key)\n",
    "            keyloc = i\n",
    "            break\n",
    "        end\n",
    "    end\n",
    "    \n",
    "    if(keyloc != 0)\n",
    "        dict.dictionaryArray = [dict.dictionaryArray[1:keyloc-1]..., dict.dictionaryArray[keyloc+1:end]...]\n",
    "    end\n",
    "end"
   ]
  },
  {
   "cell_type": "code",
   "execution_count": 3,
   "metadata": {},
   "outputs": [
    {
     "data": {
      "text/plain": [
       "Dictionary(Tuple{Any,Any}[])"
      ]
     },
     "execution_count": 3,
     "metadata": {},
     "output_type": "execute_result"
    }
   ],
   "source": [
    "dic = Dictionary()"
   ]
  },
  {
   "cell_type": "code",
   "execution_count": 4,
   "metadata": {},
   "outputs": [
    {
     "name": "stdout",
     "output_type": "stream",
     "text": [
      "Tuple{Any,Any}[(\"Hello\", 1)]\n"
     ]
    }
   ],
   "source": [
    "Set(dic, \"Hello\", 1)\n",
    "println(dic.dictionaryArray)"
   ]
  },
  {
   "cell_type": "code",
   "execution_count": 5,
   "metadata": {},
   "outputs": [
    {
     "name": "stdout",
     "output_type": "stream",
     "text": [
      "Tuple{Any,Any}[(\"Hello\", 1), (\"World\", 2)]\n"
     ]
    }
   ],
   "source": [
    "Set(dic, \"World\", 2)\n",
    "println(dic.dictionaryArray)"
   ]
  },
  {
   "cell_type": "code",
   "execution_count": 6,
   "metadata": {},
   "outputs": [
    {
     "name": "stdout",
     "output_type": "stream",
     "text": [
      "Tuple{Any,Any}[(\"Hello\", 1), (\"World\", 2), (\"HelloWorld\", 3)]\n"
     ]
    }
   ],
   "source": [
    "Set(dic, \"HelloWorld\", 3)\n",
    "println(dic.dictionaryArray)"
   ]
  },
  {
   "cell_type": "code",
   "execution_count": 10,
   "metadata": {},
   "outputs": [
    {
     "name": "stdout",
     "output_type": "stream",
     "text": [
      "Tuple{Any,Any}[(\"Hello\", 1), (\"World\", 2), (\"HelloWorld\", 4)]\n"
     ]
    }
   ],
   "source": [
    "Set(dic, \"HelloWorld\", 4)\n",
    "println(dic.dictionaryArray)"
   ]
  },
  {
   "cell_type": "code",
   "execution_count": 11,
   "metadata": {},
   "outputs": [
    {
     "data": {
      "text/plain": [
       "1"
      ]
     },
     "execution_count": 11,
     "metadata": {},
     "output_type": "execute_result"
    }
   ],
   "source": [
    "Get(dic, \"Hello\")"
   ]
  },
  {
   "cell_type": "code",
   "execution_count": 12,
   "metadata": {},
   "outputs": [
    {
     "name": "stdout",
     "output_type": "stream",
     "text": [
      "Tuple{Any,Any}[(\"Hello\", 1), (\"World\", 2), (\"HelloWorld\", 4)]\n",
      "Tuple{Any,Any}[(\"World\", 2), (\"HelloWorld\", 4)]\n"
     ]
    }
   ],
   "source": [
    "println(dic.dictionaryArray)\n",
    "Delete(dic, \"Hello\")\n",
    "println(dic.dictionaryArray)"
   ]
  }
 ],
 "metadata": {
  "kernelspec": {
   "display_name": "Julia 1.0.1",
   "language": "julia",
   "name": "julia-1.0"
  },
  "language_info": {
   "file_extension": ".jl",
   "mimetype": "application/julia",
   "name": "julia",
   "version": "1.0.1"
  }
 },
 "nbformat": 4,
 "nbformat_minor": 2
}
