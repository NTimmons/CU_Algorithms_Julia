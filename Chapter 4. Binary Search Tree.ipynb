{
 "cells": [
  {
   "cell_type": "code",
   "execution_count": 1,
   "metadata": {},
   "outputs": [],
   "source": [
    "mutable struct BinaryNode\n",
    "    value\n",
    "    left\n",
    "    right\n",
    "    \n",
    "    BinaryNode(x) = (y = new(x,\"empty\",\"empty\"))\n",
    "end\n",
    "\n"
   ]
  },
  {
   "cell_type": "code",
   "execution_count": 2,
   "metadata": {},
   "outputs": [
    {
     "data": {
      "text/plain": [
       "BinaryNode(10, \"empty\", \"empty\")"
      ]
     },
     "execution_count": 2,
     "metadata": {},
     "output_type": "execute_result"
    }
   ],
   "source": [
    "a = BinaryNode(10)"
   ]
  },
  {
   "cell_type": "code",
   "execution_count": 9,
   "metadata": {},
   "outputs": [
    {
     "data": {
      "text/plain": [
       "BinaryTreeInsert (generic function with 1 method)"
      ]
     },
     "execution_count": 9,
     "metadata": {},
     "output_type": "execute_result"
    }
   ],
   "source": [
    "function BinaryTreeInsert(tree, val)  \n",
    "    if(tree.value == val)\n",
    "        println(\"Key already in tree\")\n",
    "    end\n",
    "    \n",
    "    if(tree.value < val)\n",
    "        if(tree.right == \"empty\")\n",
    "            tree.right = BinaryNode(val)\n",
    "        else\n",
    "            BinaryTreeInsert(tree.right, val)\n",
    "        end\n",
    "    else\n",
    "        if(tree.left == \"empty\")\n",
    "            tree.left = BinaryNode(val)\n",
    "        else\n",
    "            BinaryTreeInsert(tree.left, val)\n",
    "        end\n",
    "    end\n",
    "    \n",
    "    tree\n",
    "end"
   ]
  },
  {
   "cell_type": "code",
   "execution_count": 12,
   "metadata": {},
   "outputs": [
    {
     "data": {
      "text/plain": [
       "BinaryTreeFind (generic function with 1 method)"
      ]
     },
     "execution_count": 12,
     "metadata": {},
     "output_type": "execute_result"
    }
   ],
   "source": [
    "function BinaryTreeFind(tree, val)\n",
    "    found = 0\n",
    "    if(tree.value == val)\n",
    "       return tree \n",
    "    else\n",
    "        if(tree.left != \"empty\")\n",
    "            found = BinaryTreeFind(tree.left, val)\n",
    "        end\n",
    "        \n",
    "        if(found == 0 && tree.right != \"empty\")\n",
    "            found = BinaryTreeFind(tree.right, val)\n",
    "        end\n",
    "    end\n",
    "    \n",
    "    found\n",
    "end"
   ]
  },
  {
   "cell_type": "code",
   "execution_count": 15,
   "metadata": {},
   "outputs": [
    {
     "data": {
      "text/plain": [
       "BinaryNode(1, \"empty\", \"empty\")"
      ]
     },
     "execution_count": 15,
     "metadata": {},
     "output_type": "execute_result"
    }
   ],
   "source": [
    "a = BinaryNode(5)\n",
    "BinaryTreeInsert(a, 10)\n",
    "BinaryTreeInsert(a, 15)\n",
    "BinaryTreeInsert(a, 1)\n",
    "\n",
    "\n",
    "BinaryTreeFind(a, 1)"
   ]
  }
 ],
 "metadata": {
  "kernelspec": {
   "display_name": "Julia 1.0.1",
   "language": "julia",
   "name": "julia-1.0"
  },
  "language_info": {
   "file_extension": ".jl",
   "mimetype": "application/julia",
   "name": "julia",
   "version": "1.0.1"
  }
 },
 "nbformat": 4,
 "nbformat_minor": 2
}
