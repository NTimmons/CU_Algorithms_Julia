{
 "cells": [
  {
   "cell_type": "code",
   "execution_count": 2,
   "metadata": {},
   "outputs": [
    {
     "name": "stdout",
     "output_type": "stream",
     "text": [
      "[4 2 3 1]\n"
     ]
    }
   ],
   "source": [
    "function swap(arr, idxa, idxb)\n",
    "   vara = arr[idxa]\n",
    "   arr[idxa] = arr[idxb]\n",
    "   arr[idxb] = vara\n",
    "end\n",
    "\n",
    "# Swap Test\n",
    "t = [1 2 3 4]\n",
    "swap(t, 1,4)\n",
    "println(t)"
   ]
  },
  {
   "cell_type": "code",
   "execution_count": null,
   "metadata": {},
   "outputs": [],
   "source": [
    "function HeapSort(arr)\n",
    "#todo    \n",
    "end\n",
    "\n",
    "function Heapify()\n",
    "#todo\n",
    "end\n"
   ]
  }
 ],
 "metadata": {
  "kernelspec": {
   "display_name": "Julia 1.0.1",
   "language": "julia",
   "name": "julia-1.0"
  },
  "language_info": {
   "file_extension": ".jl",
   "mimetype": "application/julia",
   "name": "julia",
   "version": "1.0.1"
  }
 },
 "nbformat": 4,
 "nbformat_minor": 2
}
