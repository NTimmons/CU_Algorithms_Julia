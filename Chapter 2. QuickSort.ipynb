{
 "cells": [
  {
   "cell_type": "code",
   "execution_count": 2,
   "metadata": {},
   "outputs": [
    {
     "data": {
      "text/plain": [
       "swap (generic function with 1 method)"
      ]
     },
     "execution_count": 2,
     "metadata": {},
     "output_type": "execute_result"
    }
   ],
   "source": [
    "function swap(arr, idxa, idxb)\n",
    "   vara = arr[idxa]\n",
    "   arr[idxa] = arr[idxb]\n",
    "   arr[idxb] = vara\n",
    "end"
   ]
  },
  {
   "cell_type": "code",
   "execution_count": 5,
   "metadata": {},
   "outputs": [
    {
     "data": {
      "text/plain": [
       "Partition (generic function with 1 method)"
      ]
     },
     "execution_count": 5,
     "metadata": {},
     "output_type": "execute_result"
    }
   ],
   "source": [
    "function Partition(arr, lo, hi, pivotindex)\n",
    "    pivot = arr[pivotindex]\n",
    "    swap(arr, hi, pivotindex)\n",
    "    storeidx = lo\n",
    "    \n",
    "    for idx in lo:hi\n",
    "        if arr[idx] < pivot\n",
    "            swap(arr, idx, storeidx)\n",
    "            storeidx = storeidx + 1\n",
    "        end\n",
    "    end\n",
    "    \n",
    "    swap(arr, storeidx, hi)\n",
    "    storeidx\n",
    "end\n",
    "\n",
    "function QuickSort(arr, lo=0, hi=0)   \n",
    "    if(hi > lo)\n",
    "        pivotindex = rand(lo:hi)\n",
    "        @show \"presort \",arr[lo:hi]\n",
    "        index = Partition(arr, lo, hi, pivotindex)\n",
    "        @show \"postsort\",arr[lo:hi],index\n",
    "        QuickSort(arr, lo, index)\n",
    "        QuickSort(arr, index+1, hi)\n",
    "    end\n",
    "    \n",
    "    arr\n",
    "end"
   ]
  },
  {
   "cell_type": "code",
   "execution_count": 6,
   "metadata": {},
   "outputs": [
    {
     "name": "stdout",
     "output_type": "stream",
     "text": [
      "(\"presort \", arr[lo:hi]) = (\"presort \", [4, 2, 9, 7, 1, 1])\n",
      "(\"postsort\", arr[lo:hi], index) = (\"postsort\", [4, 2, 1, 7, 1, 9], 6)\n",
      "(\"presort \", arr[lo:hi]) = (\"presort \", [4, 2, 1, 7, 1, 9])\n",
      "(\"postsort\", arr[lo:hi], index) = (\"postsort\", [1, 1, 2, 7, 9, 4], 3)\n",
      "(\"presort \", arr[lo:hi]) = (\"presort \", [1, 1, 2])\n",
      "(\"postsort\", arr[lo:hi], index) = (\"postsort\", [1, 1, 2], 3)\n",
      "(\"presort \", arr[lo:hi]) = (\"presort \", [1, 1, 2])\n",
      "(\"postsort\", arr[lo:hi], index) = (\"postsort\", [1, 1, 2], 1)\n",
      "(\"presort \", arr[lo:hi]) = (\"presort \", [1, 2])\n",
      "(\"postsort\", arr[lo:hi], index) = (\"postsort\", [1, 2], 2)\n",
      "(\"presort \", arr[lo:hi]) = (\"presort \", [7, 9, 4])\n",
      "(\"postsort\", arr[lo:hi], index) = (\"postsort\", [4, 9, 7], 4)\n",
      "(\"presort \", arr[lo:hi]) = (\"presort \", [9, 7])\n",
      "(\"postsort\", arr[lo:hi], index) = (\"postsort\", [7, 9], 5)\n",
      "[1 1 2 4 7 9]\n"
     ]
    }
   ],
   "source": [
    "s = [4 2 9 7 1 1]\n",
    "s = QuickSort(s, 1, length(s))\n",
    "println(s)"
   ]
  }
 ],
 "metadata": {
  "kernelspec": {
   "display_name": "Julia 1.0.1",
   "language": "julia",
   "name": "julia-1.0"
  },
  "language_info": {
   "file_extension": ".jl",
   "mimetype": "application/julia",
   "name": "julia",
   "version": "1.0.1"
  }
 },
 "nbformat": 4,
 "nbformat_minor": 2
}
