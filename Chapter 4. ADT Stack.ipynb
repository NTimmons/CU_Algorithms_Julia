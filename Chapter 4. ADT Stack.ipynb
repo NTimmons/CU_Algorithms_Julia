{
 "cells": [
  {
   "cell_type": "code",
   "execution_count": 19,
   "metadata": {},
   "outputs": [
    {
     "data": {
      "text/plain": [
       "show (generic function with 1 method)"
      ]
     },
     "execution_count": 19,
     "metadata": {},
     "output_type": "execute_result"
    }
   ],
   "source": [
    "# ADT Stack\n",
    "\n",
    "mutable struct ADTStack\n",
    "    internalArray::Array{Any,1}  \n",
    "    ADTStack() = new([])\n",
    "end\n",
    "\n",
    "function push!(stck::ADTStack, x)\n",
    "    stck.internalArray = [stck.internalArray... , x]\n",
    "end\n",
    "\n",
    "function pop!(stck::ADTStack)\n",
    "    val = stck.internalArray[end]\n",
    "    stck.internalArray = stck.internalArray[1:end-1]\n",
    "    val\n",
    "end\n",
    "\n",
    "function top(stck::ADTStack)\n",
    "    if(isEmpty(stck))\n",
    "        return nothing\n",
    "    else\n",
    "        return stck.internalArray[end]\n",
    "    end\n",
    "end\n",
    "\n",
    "function isEmpty(stck::ADTStack)\n",
    "    length(stck.internalArray) == 0\n",
    "end\n",
    "\n",
    "function show(stck::ADTStack)\n",
    "   print(stck.internalArray) \n",
    "end"
   ]
  },
  {
   "cell_type": "code",
   "execution_count": 21,
   "metadata": {},
   "outputs": [
    {
     "data": {
      "text/plain": [
       "ADTStack(Any[])"
      ]
     },
     "execution_count": 21,
     "metadata": {},
     "output_type": "execute_result"
    }
   ],
   "source": [
    "stack = ADTStack()"
   ]
  },
  {
   "cell_type": "code",
   "execution_count": 23,
   "metadata": {},
   "outputs": [
    {
     "name": "stdout",
     "output_type": "stream",
     "text": [
      "stck.internalArray[end] = 3\n"
     ]
    },
    {
     "data": {
      "text/plain": [
       "3"
      ]
     },
     "execution_count": 23,
     "metadata": {},
     "output_type": "execute_result"
    }
   ],
   "source": [
    "push!(stack, 1)\n",
    "push!(stack, 2)\n",
    "push!(stack, 3)\n",
    "top(stack)\n"
   ]
  },
  {
   "cell_type": "code",
   "execution_count": 24,
   "metadata": {},
   "outputs": [
    {
     "name": "stdout",
     "output_type": "stream",
     "text": [
      "Any[1, 2, 3]"
     ]
    }
   ],
   "source": [
    "show(stack)"
   ]
  },
  {
   "cell_type": "code",
   "execution_count": 25,
   "metadata": {},
   "outputs": [
    {
     "data": {
      "text/plain": [
       "3"
      ]
     },
     "execution_count": 25,
     "metadata": {},
     "output_type": "execute_result"
    }
   ],
   "source": [
    "pop!(stack)"
   ]
  },
  {
   "cell_type": "code",
   "execution_count": 26,
   "metadata": {},
   "outputs": [
    {
     "name": "stdout",
     "output_type": "stream",
     "text": [
      "Any[1, 2]"
     ]
    }
   ],
   "source": [
    "show(stack)"
   ]
  }
 ],
 "metadata": {
  "kernelspec": {
   "display_name": "Julia 1.0.1",
   "language": "julia",
   "name": "julia-1.0"
  },
  "language_info": {
   "file_extension": ".jl",
   "mimetype": "application/julia",
   "name": "julia",
   "version": "1.0.1"
  }
 },
 "nbformat": 4,
 "nbformat_minor": 2
}
