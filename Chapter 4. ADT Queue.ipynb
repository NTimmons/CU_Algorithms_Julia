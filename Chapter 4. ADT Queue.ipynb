{
 "cells": [
  {
   "cell_type": "code",
   "execution_count": 4,
   "metadata": {},
   "outputs": [],
   "source": [
    "import Base: get"
   ]
  },
  {
   "cell_type": "code",
   "execution_count": 2,
   "metadata": {},
   "outputs": [],
   "source": [
    "mutable struct Queue\n",
    "    internalArray::Array{Any,1}\n",
    "    Queue() = new([])\n",
    "end"
   ]
  },
  {
   "cell_type": "code",
   "execution_count": 5,
   "metadata": {},
   "outputs": [
    {
     "data": {
      "text/plain": [
       "first (generic function with 1 method)"
      ]
     },
     "execution_count": 5,
     "metadata": {},
     "output_type": "execute_result"
    }
   ],
   "source": [
    "function IsEmpty(x::Queue)\n",
    "    length(x.internalArray) == 0\n",
    "end\n",
    "\n",
    "function put(x::Queue, y)\n",
    "    x.internalArray = [ x.internalArray..., y]\n",
    "end\n",
    "\n",
    "function get(x::Queue)\n",
    "    val = x.internalArray[1]\n",
    "    x.internalArray = x.internalArray[2:end]\n",
    "    val\n",
    "end\n",
    "\n",
    "function first(x::Queue)\n",
    "    x.internalArray[1]\n",
    "end"
   ]
  },
  {
   "cell_type": "code",
   "execution_count": 8,
   "metadata": {},
   "outputs": [
    {
     "name": "stdout",
     "output_type": "stream",
     "text": [
      "Any[10, 9, 8]"
     ]
    }
   ],
   "source": [
    "q = Queue()\n",
    "put(q,10)\n",
    "put(q,9)\n",
    "put(q,8)\n",
    "print(q.internalArray)"
   ]
  },
  {
   "cell_type": "code",
   "execution_count": 9,
   "metadata": {},
   "outputs": [
    {
     "name": "stdout",
     "output_type": "stream",
     "text": [
      "10\n",
      "Any[9, 8]\n"
     ]
    }
   ],
   "source": [
    "x = get(q)\n",
    "println(x)\n",
    "println(q.internalArray)"
   ]
  },
  {
   "cell_type": "code",
   "execution_count": 10,
   "metadata": {},
   "outputs": [
    {
     "name": "stdout",
     "output_type": "stream",
     "text": [
      "9\n",
      "Any[9, 8]\n"
     ]
    }
   ],
   "source": [
    "x = first(q)\n",
    "println(x)\n",
    "println(q.internalArray)"
   ]
  }
 ],
 "metadata": {
  "kernelspec": {
   "display_name": "Julia 1.0.1",
   "language": "julia",
   "name": "julia-1.0"
  },
  "language_info": {
   "file_extension": ".jl",
   "mimetype": "application/julia",
   "name": "julia",
   "version": "1.0.1"
  }
 },
 "nbformat": 4,
 "nbformat_minor": 2
}
