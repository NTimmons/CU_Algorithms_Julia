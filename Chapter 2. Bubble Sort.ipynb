{
 "cells": [
  {
   "cell_type": "code",
   "execution_count": 2,
   "metadata": {},
   "outputs": [
    {
     "name": "stdout",
     "output_type": "stream",
     "text": [
      "[1 1 2 4 7 9]\n"
     ]
    }
   ],
   "source": [
    "function swap(arr, idxa, idxb)\n",
    "   vara = arr[idxa]\n",
    "   arr[idxa] = arr[idxb]\n",
    "   arr[idxb] = vara\n",
    "end\n",
    "\n",
    "function BubbleSort(arr)\n",
    "\n",
    "    didsomeswap = true\n",
    "    while didsomeswap\n",
    "        didsomeswap = false\n",
    "        for k in 1:length(arr)-1\n",
    "            if(arr[k] > arr[k+1])\n",
    "                swap(arr, k, k+1)\n",
    "                didsomeswap = true\n",
    "            end\n",
    "        end\n",
    "    end\n",
    "end\n",
    "\n",
    "#Bubble sort test\n",
    "s = [4 2 9 7 1 1]\n",
    "BubbleSort(s)\n",
    "println(s)"
   ]
  }
 ],
 "metadata": {
  "kernelspec": {
   "display_name": "Julia 1.0.1",
   "language": "julia",
   "name": "julia-1.0"
  },
  "language_info": {
   "file_extension": ".jl",
   "mimetype": "application/julia",
   "name": "julia",
   "version": "1.0.1"
  }
 },
 "nbformat": 4,
 "nbformat_minor": 2
}
