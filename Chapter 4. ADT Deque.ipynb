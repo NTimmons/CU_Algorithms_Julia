{
 "cells": [
  {
   "cell_type": "code",
   "execution_count": 1,
   "metadata": {},
   "outputs": [],
   "source": [
    "mutable struct Deque\n",
    "    internalArray::Array{Any,1}\n",
    "    Deque() = new([])\n",
    "end"
   ]
  },
  {
   "cell_type": "code",
   "execution_count": 2,
   "metadata": {},
   "outputs": [
    {
     "data": {
      "text/plain": [
       "GetRear (generic function with 1 method)"
      ]
     },
     "execution_count": 2,
     "metadata": {},
     "output_type": "execute_result"
    }
   ],
   "source": [
    "function IsEmpty(x::Deque)\n",
    "    length(x.internalArray) == 0\n",
    "end\n",
    "\n",
    "\n",
    "function PutFront(x::Deque, y)\n",
    "    x.internalArray = [y, x.internalArray... ]    \n",
    "end\n",
    "\n",
    "function PutRear(x::Deque, y)\n",
    "    x.internalArray = [x.internalArray... , y]    \n",
    "end\n",
    "\n",
    "function GetFront(x::Deque)\n",
    "    val= x.internalArray[1]\n",
    "    x.internalArray = x.internalArray[2:end]\n",
    "    val\n",
    "end\n",
    "\n",
    "function GetRear(x::Deque)\n",
    "    val= x.internalArray[end]\n",
    "    x.internalArray = x.internalArray[1:end-1]\n",
    "    val\n",
    "end"
   ]
  },
  {
   "cell_type": "code",
   "execution_count": 3,
   "metadata": {},
   "outputs": [
    {
     "data": {
      "text/plain": [
       "3-element Array{Int64,1}:\n",
       " 3\n",
       " 2\n",
       " 1"
      ]
     },
     "execution_count": 3,
     "metadata": {},
     "output_type": "execute_result"
    }
   ],
   "source": [
    "dq = Deque()\n",
    "PutFront(dq, 1)\n",
    "PutFront(dq, 2)\n",
    "PutFront(dq, 3)"
   ]
  },
  {
   "cell_type": "code",
   "execution_count": 4,
   "metadata": {},
   "outputs": [
    {
     "data": {
      "text/plain": [
       "6-element Array{Int64,1}:\n",
       " 3\n",
       " 2\n",
       " 1\n",
       " 1\n",
       " 2\n",
       " 3"
      ]
     },
     "execution_count": 4,
     "metadata": {},
     "output_type": "execute_result"
    }
   ],
   "source": [
    "PutRear(dq, 1)\n",
    "PutRear(dq, 2)\n",
    "PutRear(dq, 3)"
   ]
  },
  {
   "cell_type": "code",
   "execution_count": 5,
   "metadata": {},
   "outputs": [
    {
     "name": "stdout",
     "output_type": "stream",
     "text": [
      "3\n",
      "Any[3, 2, 1, 1, 2]\n"
     ]
    }
   ],
   "source": [
    "x = GetRear(dq)\n",
    "println(x)\n",
    "println(dq.internalArray)"
   ]
  },
  {
   "cell_type": "code",
   "execution_count": 6,
   "metadata": {},
   "outputs": [
    {
     "name": "stdout",
     "output_type": "stream",
     "text": [
      "3\n",
      "Any[2, 1, 1, 2]\n"
     ]
    }
   ],
   "source": [
    "x = GetFront(dq)\n",
    "println(x)\n",
    "println(dq.internalArray)"
   ]
  }
 ],
 "metadata": {
  "kernelspec": {
   "display_name": "Julia 1.0.1",
   "language": "julia",
   "name": "julia-1.0"
  },
  "language_info": {
   "file_extension": ".jl",
   "mimetype": "application/julia",
   "name": "julia",
   "version": "1.0.1"
  }
 },
 "nbformat": 4,
 "nbformat_minor": 2
}
