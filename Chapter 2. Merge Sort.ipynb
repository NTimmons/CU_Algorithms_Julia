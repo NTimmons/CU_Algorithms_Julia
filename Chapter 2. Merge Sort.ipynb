{
 "cells": [
  {
   "cell_type": "code",
   "execution_count": 18,
   "metadata": {},
   "outputs": [
    {
     "name": "stdout",
     "output_type": "stream",
     "text": [
      "[1.0, 1.0, 2.0, 4.0, 7.0, 9.0]\n"
     ]
    }
   ],
   "source": [
    "function swap(arr, idxa, idxb)\n",
    "   vara = arr[idxa]\n",
    "   arr[idxa] = arr[idxb]\n",
    "   arr[idxb] = vara\n",
    "end\n",
    "\n",
    "function smallest(arr1, arr2, i1, i2)\n",
    "    if(i2 > length(arr2))\n",
    "        i1+=1\n",
    "        return arr1[i1-1], i1, i2\n",
    "    end\n",
    "    \n",
    "    if(i1 > length(arr1))\n",
    "        i2+=1\n",
    "        return arr2[i2-1], i1, i2\n",
    "    end\n",
    "    \n",
    "    if( arr1[i1] <= arr2[i2])\n",
    "        i1 += 1\n",
    "        return arr1[i1-1], i1, i2\n",
    "    elseif ( arr1[i1] >= arr2[i2])\n",
    "        i2 += 1\n",
    "        return arr2[i2-1], i1, i2\n",
    "    end\n",
    "end\n",
    "\n",
    "function MergeSort(arr)\n",
    "    if( length(arr ) == 1 )\n",
    "        return arr\n",
    "    end\n",
    "    \n",
    "    h  = Int64(round(length(arr)/2))\n",
    "    a1 = MergeSort(arr[1:h])\n",
    "    a2 = MergeSort(arr[h+1:end])\n",
    "    \n",
    "    a3 = zeros(length(arr))#reshape([],0,length(arr))\n",
    "    i1 = 1\n",
    "    i2 = 1\n",
    "    i3 = 1\n",
    "    while (i1 <= length(a1) || i2 <= length(a2))\n",
    "        a3[i3], i1, i2 = smallest(a1,a2,i1,i2)\n",
    "        i3 = i3+1\n",
    "    end\n",
    "    return a3\n",
    "end\n",
    "\n",
    "#Merge sort test\n",
    "s = [4 2 9 7 1 1]\n",
    "s = MergeSort(s)\n",
    "println(s)"
   ]
  },
  {
   "cell_type": "code",
   "execution_count": null,
   "metadata": {},
   "outputs": [],
   "source": []
  }
 ],
 "metadata": {
  "kernelspec": {
   "display_name": "Julia 1.0.1",
   "language": "julia",
   "name": "julia-1.0"
  },
  "language_info": {
   "file_extension": ".jl",
   "mimetype": "application/julia",
   "name": "julia",
   "version": "1.0.1"
  }
 },
 "nbformat": 4,
 "nbformat_minor": 2
}
