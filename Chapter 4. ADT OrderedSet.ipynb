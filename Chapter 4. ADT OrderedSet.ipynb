{
 "cells": [
  {
   "cell_type": "code",
   "execution_count": 13,
   "metadata": {},
   "outputs": [],
   "source": [
    "mutable struct OrderedSet\n",
    "    setArray::Array{Tuple{Any,Any}} \n",
    "    OrderedSet() = new([])\n",
    "end"
   ]
  },
  {
   "cell_type": "code",
   "execution_count": 22,
   "metadata": {},
   "outputs": [
    {
     "data": {
      "text/plain": [
       "Delete (generic function with 1 method)"
      ]
     },
     "execution_count": 22,
     "metadata": {},
     "output_type": "execute_result"
    }
   ],
   "source": [
    "# Same as Dictionary\n",
    "\n",
    "function Set(set, key, value)\n",
    "    for i in 1:length(set.setArray)\n",
    "       if(set.setArray[i][1] == key)\n",
    "            set.setArray[i] = (key, value)\n",
    "            return\n",
    "        end\n",
    "    end\n",
    "    \n",
    "    set.setArray = [set.setArray..., (key,value)]\n",
    "end\n",
    "\n",
    "function Get(dict, key)\n",
    "    for pair in set.setArray\n",
    "       if(pair[1] == key)\n",
    "            return pair[2]\n",
    "        end\n",
    "    end\n",
    "    \n",
    "    return nothing\n",
    "end\n",
    "\n",
    "function Delete(dict, key)\n",
    "    keyloc = 0\n",
    "    for i in 1:length(set.setArray)\n",
    "       if(set.setArray[i][1] == key)\n",
    "            keyloc = i\n",
    "            break\n",
    "        end\n",
    "    end\n",
    "    \n",
    "    if(keyloc != 0)\n",
    "        set.setArray = [set.setArray[1:keyloc-1]..., set.setArray[keyloc+1:end]...]\n",
    "    end\n",
    "end"
   ]
  },
  {
   "cell_type": "code",
   "execution_count": 43,
   "metadata": {},
   "outputs": [
    {
     "data": {
      "text/plain": [
       "Union (generic function with 1 method)"
      ]
     },
     "execution_count": 43,
     "metadata": {},
     "output_type": "execute_result"
    }
   ],
   "source": [
    "function IsEmpty(set)\n",
    "    length(set.setArray) == 0\n",
    "end\n",
    "\n",
    "function HasKey(set, key)\n",
    "    for pair in set.setArray\n",
    "       if(pair[1] == key)\n",
    "            return true\n",
    "        end\n",
    "    end\n",
    "    \n",
    "    return false\n",
    "end\n",
    "\n",
    "function ChooseAny(set)\n",
    "    idx = rand(1:length(set.setArray))\n",
    "    set.setArray[idx][2]\n",
    "end\n",
    "\n",
    "function Min(set::OrderedSet)\n",
    "    keyloc = 1\n",
    "    minkey = set.setArray[1][1]\n",
    "    \n",
    "    for i in 1:length(set.setArray)\n",
    "       if( isless(set.setArray[i][1], minkey) )\n",
    "            minkey = set.setArray[i][1]\n",
    "            keyloc = i\n",
    "        end\n",
    "    end\n",
    "    \n",
    "    set.setArray[keyloc][2]\n",
    "end\n",
    "\n",
    "function Max(set::OrderedSet)\n",
    "    keyloc = 1\n",
    "    maxkey = set.setArray[1][1]\n",
    "    \n",
    "    for i in 1:length(set.setArray)\n",
    "       if( !isless(set.setArray[i][1], maxkey) )\n",
    "            maxkey = set.setArray[i][1]\n",
    "            keyloc = i\n",
    "        end\n",
    "    end\n",
    "        \n",
    "    set.setArray[keyloc][2]\n",
    "end\n",
    "\n",
    "function Predecessor(set, key)\n",
    "    sortedarr = sort(set.setArray)\n",
    "    for i in i:length(sortedarr)\n",
    "       if(sortedarr[i][1] == key)\n",
    "            return sortedarr[i-1][2]\n",
    "        end\n",
    "    end\n",
    "end\n",
    "\n",
    "function Successor(set, key)\n",
    "    sortedarr = sort(set.setArray)\n",
    "    for i in i:length(sortedarr)\n",
    "       if(sortedarr[i][1] == key)\n",
    "            return sortedarr[i+1][2]\n",
    "        end\n",
    "    end\n",
    "end\n",
    "\n",
    "function Union(seta, setb) \n",
    "    \n",
    "    un = OrderedSet()\n",
    "    for v in seta.setArray\n",
    "        Set(un, v[1], v[2])\n",
    "    end\n",
    "    \n",
    "    for v in setb.setArray\n",
    "        Set(un, v[1], v[2])\n",
    "    end\n",
    "            \n",
    "    un\n",
    "end"
   ]
  },
  {
   "cell_type": "code",
   "execution_count": 20,
   "metadata": {},
   "outputs": [
    {
     "data": {
      "text/plain": [
       "OrderedSet(Tuple{Any,Any}[])"
      ]
     },
     "execution_count": 20,
     "metadata": {},
     "output_type": "execute_result"
    }
   ],
   "source": [
    "set = OrderedSet()"
   ]
  },
  {
   "cell_type": "code",
   "execution_count": 23,
   "metadata": {},
   "outputs": [
    {
     "data": {
      "text/plain": [
       "1-element Array{Tuple{Int64,Int64},1}:\n",
       " (100, 1)"
      ]
     },
     "execution_count": 23,
     "metadata": {},
     "output_type": "execute_result"
    }
   ],
   "source": [
    "Set(set, 100, 1)"
   ]
  },
  {
   "cell_type": "code",
   "execution_count": 24,
   "metadata": {},
   "outputs": [
    {
     "data": {
      "text/plain": [
       "2-element Array{Tuple{Int64,Int64},1}:\n",
       " (100, 1)\n",
       " (101, 2)"
      ]
     },
     "execution_count": 24,
     "metadata": {},
     "output_type": "execute_result"
    }
   ],
   "source": [
    "Set(set, 101, 2)"
   ]
  },
  {
   "cell_type": "code",
   "execution_count": 25,
   "metadata": {},
   "outputs": [
    {
     "data": {
      "text/plain": [
       "3-element Array{Tuple{Int64,Int64},1}:\n",
       " (100, 1)\n",
       " (101, 2)\n",
       " (102, 3)"
      ]
     },
     "execution_count": 25,
     "metadata": {},
     "output_type": "execute_result"
    }
   ],
   "source": [
    "Set(set, 102, 3)"
   ]
  },
  {
   "cell_type": "code",
   "execution_count": 26,
   "metadata": {},
   "outputs": [
    {
     "data": {
      "text/plain": [
       "true"
      ]
     },
     "execution_count": 26,
     "metadata": {},
     "output_type": "execute_result"
    }
   ],
   "source": [
    "HasKey(set, 102)"
   ]
  },
  {
   "cell_type": "code",
   "execution_count": 31,
   "metadata": {},
   "outputs": [
    {
     "data": {
      "text/plain": [
       "2"
      ]
     },
     "execution_count": 31,
     "metadata": {},
     "output_type": "execute_result"
    }
   ],
   "source": [
    "ChooseAny(set)"
   ]
  },
  {
   "cell_type": "code",
   "execution_count": 38,
   "metadata": {},
   "outputs": [
    {
     "data": {
      "text/plain": [
       "1"
      ]
     },
     "execution_count": 38,
     "metadata": {},
     "output_type": "execute_result"
    }
   ],
   "source": [
    "Min(set)"
   ]
  },
  {
   "cell_type": "code",
   "execution_count": 41,
   "metadata": {},
   "outputs": [
    {
     "data": {
      "text/plain": [
       "3"
      ]
     },
     "execution_count": 41,
     "metadata": {},
     "output_type": "execute_result"
    }
   ],
   "source": [
    "Max(set)"
   ]
  },
  {
   "cell_type": "code",
   "execution_count": 44,
   "metadata": {},
   "outputs": [
    {
     "data": {
      "text/plain": [
       "OrderedSet(Tuple{Any,Any}[(100, 1), (101, 2), (102, 3)])"
      ]
     },
     "execution_count": 44,
     "metadata": {},
     "output_type": "execute_result"
    }
   ],
   "source": [
    "un = Union(set,set)"
   ]
  }
 ],
 "metadata": {
  "kernelspec": {
   "display_name": "Julia 1.0.1",
   "language": "julia",
   "name": "julia-1.0"
  },
  "language_info": {
   "file_extension": ".jl",
   "mimetype": "application/julia",
   "name": "julia",
   "version": "1.0.1"
  }
 },
 "nbformat": 4,
 "nbformat_minor": 2
}
