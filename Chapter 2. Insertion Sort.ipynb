{
 "cells": [
  {
   "cell_type": "code",
   "execution_count": 13,
   "metadata": {},
   "outputs": [
    {
     "name": "stdout",
     "output_type": "stream",
     "text": [
      "[4 2 3 1]\n"
     ]
    }
   ],
   "source": [
    "function swap(arr, idxa, idxb)\n",
    "   vara = arr[idxa]\n",
    "   arr[idxa] = arr[idxb]\n",
    "   arr[idxb] = vara\n",
    "end\n",
    "\n",
    "# Swap Test\n",
    "t = [1 2 3 4]\n",
    "swap(t, 1,4)\n",
    "println(t)"
   ]
  },
  {
   "cell_type": "code",
   "execution_count": 14,
   "metadata": {},
   "outputs": [
    {
     "name": "stdout",
     "output_type": "stream",
     "text": [
      "[1 1 2 4 7 9]\n"
     ]
    }
   ],
   "source": [
    "function InsertionSort(arr)\n",
    "    for i in 2:length(arr)\n",
    "        j = i - 1\n",
    "        while ( j >= 1 && arr[j] > arr[j+1])\n",
    "            swap(arr, j, j + 1)\n",
    "            j = j -1\n",
    "        end\n",
    "    end \n",
    "end\n",
    "\n",
    "#Insertion sort test\n",
    "s = [4 2 9 7 1 1]\n",
    "InsertionSort(s)\n",
    "println(s)"
   ]
  }
 ],
 "metadata": {
  "kernelspec": {
   "display_name": "Julia 1.0.1",
   "language": "julia",
   "name": "julia-1.0"
  },
  "language_info": {
   "file_extension": ".jl",
   "mimetype": "application/julia",
   "name": "julia",
   "version": "1.0.1"
  }
 },
 "nbformat": 4,
 "nbformat_minor": 2
}
