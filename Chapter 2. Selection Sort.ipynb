{
 "cells": [
  {
   "cell_type": "code",
   "execution_count": 1,
   "metadata": {},
   "outputs": [
    {
     "name": "stdout",
     "output_type": "stream",
     "text": [
      "[4 2 3 1]\n"
     ]
    }
   ],
   "source": [
    "function swap(arr, idxa, idxb)\n",
    "   vara = arr[idxa]\n",
    "   arr[idxa] = arr[idxb]\n",
    "   arr[idxb] = vara\n",
    "end\n",
    "\n",
    "# Swap Test\n",
    "t = [1 2 3 4]\n",
    "swap(t, 1,4)\n",
    "println(t)"
   ]
  },
  {
   "cell_type": "code",
   "execution_count": 6,
   "metadata": {},
   "outputs": [
    {
     "name": "stdout",
     "output_type": "stream",
     "text": [
      "[1 1 2 4 7 9]\n"
     ]
    }
   ],
   "source": [
    "function SelectionSort(arr)\n",
    "    for k in 1:length(arr)\n",
    "        imin = k\n",
    "        for j in (imin+1):length(arr)\n",
    "            if(arr[j] < arr[imin])\n",
    "                imin = j\n",
    "            end\n",
    "        end\n",
    "        \n",
    "        swap(arr, k, imin)\n",
    "    end\n",
    "end\n",
    "\n",
    "#Selection sort test\n",
    "s = [4 2 9 7 1 1]\n",
    "SelectionSort(s)\n",
    "println(s)"
   ]
  }
 ],
 "metadata": {
  "kernelspec": {
   "display_name": "Julia 1.0.1",
   "language": "julia",
   "name": "julia-1.0"
  },
  "language_info": {
   "file_extension": ".jl",
   "mimetype": "application/julia",
   "name": "julia",
   "version": "1.0.1"
  }
 },
 "nbformat": 4,
 "nbformat_minor": 2
}
